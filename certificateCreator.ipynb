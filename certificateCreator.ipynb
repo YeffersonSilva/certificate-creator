{
 "cells": [
  {
   "cell_type": "code",
   "execution_count": null,
   "metadata": {},
   "outputs": [],
   "source": [
    "!pip install python-docx\n",
    "!pip install openpyxl\n",
    "!pip install pywin32"
   ]
  },
  {
   "cell_type": "code",
   "execution_count": null,
   "metadata": {},
   "outputs": [],
   "source": [
    "from docx import Document\n",
    "from docx.shared import Pt\n",
    "\n",
    "# Open the Word file\n",
    "arquivoWord = Document(\"Certificado1.docx\")\n",
    "\n",
    "# Configuring styles\n",
    "estilo = arquivoWord.styles[\"Normal\"]\n",
    "\n",
    "for paragrafo in arquivoWord.paragraphs:\n",
    "    if \"@nome\" in paragrafo.text:\n",
    "        paragrafo.text = \"Amanda Batista Alves\"\n",
    "        fonte = estilo.font\n",
    "        fonte.name = \"Calibri (Corpo)\"\n",
    "        fonte.size = Pt(24)\n",
    "\n",
    "# Save the certificate with the student's name\n",
    "arquivoWord.save(\"Amanda Batista Alves.docx\")\n",
    "\n",
    "print(\"Certificate generated successfully!\")\n"
   ]
  },
  {
   "cell_type": "code",
   "execution_count": null,
   "metadata": {},
   "outputs": [],
   "source": []
  }
 ],
 "metadata": {
  "language_info": {
   "name": "python"
  }
 },
 "nbformat": 4,
 "nbformat_minor": 2
}
