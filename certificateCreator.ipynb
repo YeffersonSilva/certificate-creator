{
 "cells": [
  {
   "cell_type": "code",
   "execution_count": null,
   "metadata": {},
   "outputs": [],
   "source": [
    "!pip install python-docx\n",
    "!pip install openpyxl\n",
    "!pip install pywin32"
   ]
  },
  {
   "cell_type": "code",
   "execution_count": null,
   "metadata": {},
   "outputs": [],
   "source": [
    "from docx import Document\n",
    "from docx.shared import Pt\n",
    "\n",
    "# Open the Word file\n",
    "arquivoWord = Document(\"Certificado1.docx\")\n",
    "\n",
    "# Configuring styles\n",
    "estilo = arquivoWord.styles[\"Normal\"]\n",
    "\n",
    "for paragrafo in arquivoWord.paragraphs:\n",
    "    if \"@nome\" in paragrafo.text:\n",
    "        paragrafo.text = \"Amanda Batista Alves\"\n",
    "        fonte = estilo.font\n",
    "        fonte.name = \"Calibri (Corpo)\"\n",
    "        fonte.size = Pt(24)\n",
    "\n",
    "# Save the certificate with the student's name\n",
    "arquivoWord.save(\"Amanda Batista Alves.docx\")\n",
    "\n",
    "print(\"Certificate generated successfully!\")\n"
   ]
  },
  {
   "cell_type": "code",
   "execution_count": null,
   "metadata": {},
   "outputs": [],
   "source": [
    "from openpyxl import load_workbook\n",
    "\n",
    "# Configure the path\n",
    "nome_arquivo_alunos = \"C:\\\\Users\\\\55119\\\\Desktop\\\\Curso RPA\\\\Word\\\\Alunos.xlsx\"\n",
    "\n",
    "# Opening the file\n",
    "planilhaDadosAlunos = load_workbook(nome_arquivo_alunos)\n",
    "\n",
    "# Selecting the sheet\n",
    "sheet_selecionada = planilhaDadosAlunos[\"Nomes\"]\n",
    "\n",
    "\n",
    "for linha in range(2, len(sheet_selecionada[\"A\"]) + 1):\n",
    "    arquivoWord = Document(\"Certificado2.docx\")\n",
    "    estilo = arquivoWord.styles[\"Normal\"]\n",
    "    \n",
    "    # Code to replace text based on Excel data omitted for brevity\n",
    "\n",
    "    arquivoWord.save(\"Path_To_Save_Document\")\n"
   ]
  }
 ],
 "metadata": {
  "language_info": {
   "name": "python"
  }
 },
 "nbformat": 4,
 "nbformat_minor": 2
}
